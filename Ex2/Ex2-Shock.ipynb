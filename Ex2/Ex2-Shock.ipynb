{
 "cells": [
  {
   "cell_type": "code",
   "execution_count": 1,
   "metadata": {},
   "outputs": [],
   "source": [
    "from consts import *\n",
    "import numpy as np\n",
    "_x  = np.arange(x_start, x_end, dx)"
   ]
  },
  {
   "cell_type": "code",
   "execution_count": 2,
   "metadata": {},
   "outputs": [],
   "source": [
    "# Ahead contidions\n",
    "rho_A = 1.4\n",
    "u_A =  0\n",
    "p_A = 1\n",
    "\n",
    "U0_A = np.array([rho_A, u_A, p_A])\n",
    "\n",
    "\n",
    "# u + a shock\n",
    "rho_B = 3.5\n",
    "u_B = 1.1340613\n",
    "p_B = 4\n",
    "\n",
    "\n",
    "U0_B = np.array([rho_B, u_B, p_B])\n",
    "# Take the middle point of the spatial domain\n",
    "x_middle = x_end/2\n",
    "\n",
    "# Define the initial condition, with A on the right and B on the right\n",
    "U0 = np.array([U0_A if x > x_middle else U0_B for x in _x])"
   ]
  },
  {
   "cell_type": "code",
   "execution_count": null,
   "metadata": {
    "notebookRunGroups": {
     "groupValue": "1"
    }
   },
   "outputs": [],
   "source": [
    "# LFx2\n",
    "from lfx2 import LFx2\n",
    "U_prop, a_prop, dt_arr = LFx2(U0, dx, c, t_end, gamma)\n",
    "\n",
    "rho_sol = U_prop[:,:,0]\n",
    "u_sol = U_prop[:,:,1]\n",
    "p_sol = U_prop[:,:,2]\n",
    "\n",
    "\n",
    "rho_res = Result(_x, rho_sol, c, \"Shock - rho\" )\n",
    "u_res = Result(_x, u_sol, c, \"Shock - u\"  )\n",
    "p_res = Result(_x, p_sol, c,\"Shock - p\"  )\n",
    "a_res = Result(_x, a_prop, c,\"Shock - a\"  )"
   ]
  },
  {
   "cell_type": "code",
   "execution_count": 20,
   "metadata": {
    "notebookRunGroups": {
     "groupValue": "1"
    }
   },
   "outputs": [
    {
     "data": {
      "text/plain": [
       "<matplotlib.animation.FuncAnimation at 0x155f84ab210>"
      ]
     },
     "execution_count": 20,
     "metadata": {},
     "output_type": "execute_result"
    }
   ],
   "source": [
    "# Plot the results\n",
    "%matplotlib qt\n",
    "\n",
    "rho_res.animate()   \t"
   ]
  },
  {
   "cell_type": "code",
   "execution_count": 21,
   "metadata": {
    "notebookRunGroups": {
     "groupValue": "1"
    }
   },
   "outputs": [
    {
     "data": {
      "text/plain": [
       "<matplotlib.animation.FuncAnimation at 0x15597747410>"
      ]
     },
     "execution_count": 21,
     "metadata": {},
     "output_type": "execute_result"
    }
   ],
   "source": [
    "%matplotlib qt\n",
    "\n",
    "u_res.animate()"
   ]
  },
  {
   "cell_type": "code",
   "execution_count": 22,
   "metadata": {
    "notebookRunGroups": {
     "groupValue": "1"
    }
   },
   "outputs": [
    {
     "data": {
      "text/plain": [
       "<matplotlib.animation.FuncAnimation at 0x155977c6f10>"
      ]
     },
     "execution_count": 22,
     "metadata": {},
     "output_type": "execute_result"
    }
   ],
   "source": [
    "%matplotlib qt\n",
    "\n",
    "p_res.animate()"
   ]
  },
  {
   "cell_type": "code",
   "execution_count": 23,
   "metadata": {
    "notebookRunGroups": {
     "groupValue": "1"
    }
   },
   "outputs": [
    {
     "data": {
      "text/plain": [
       "<matplotlib.animation.FuncAnimation at 0x15596f32890>"
      ]
     },
     "execution_count": 23,
     "metadata": {},
     "output_type": "execute_result"
    }
   ],
   "source": [
    "%matplotlib qt\n",
    "\n",
    "a_res.animate()"
   ]
  },
  {
   "cell_type": "code",
   "execution_count": 2,
   "metadata": {},
   "outputs": [],
   "source": [
    "### u - a shock\n",
    "\n",
    "# Ahead contidions\n",
    "rho_A = 1.4\n",
    "u_A =  0\n",
    "p_A = 1\n",
    "\n",
    "U0_B = np.array([rho_A, u_A, p_A])\n",
    "\n",
    "\n",
    "rho_B = 3.5\n",
    "u_B = -1.1340613\n",
    "p_B = 4\n",
    "\n",
    "\n",
    "U0_A = np.array([rho_B, u_B, p_B])\n",
    "# Take the middle point of the spatial domain\n",
    "x_middle = x_end/2\n",
    "\n",
    "# Define the initial condition, with A on the right and B on the right\n",
    "U0 = np.array([U0_A if x > x_middle else U0_B for x in _x])"
   ]
  },
  {
   "cell_type": "code",
   "execution_count": 3,
   "metadata": {},
   "outputs": [],
   "source": [
    "# LFx2\n",
    "from lfx2 import LFx2\n",
    "U_prop, a_prop, dt_arr = LFx2(U0, dx, c, t_end, gamma)\n",
    "\n",
    "rho_sol = U_prop[:,:,0]\n",
    "u_sol = U_prop[:,:,1]\n",
    "p_sol = U_prop[:,:,2]\n",
    "\n",
    "\n",
    "rho_res = Result(_x, rho_sol, c, \"Shock - rho\" )\n",
    "u_res = Result(_x, u_sol, c, \"Shock - u\"  )\n",
    "p_res = Result(_x, p_sol, c,\"Shock - p\"  )\n",
    "a_res = Result(_x, a_prop, c,\"Shock - a\"  )"
   ]
  },
  {
   "cell_type": "code",
   "execution_count": 4,
   "metadata": {},
   "outputs": [
    {
     "data": {
      "text/plain": [
       "<matplotlib.animation.FuncAnimation at 0x1703acc3e90>"
      ]
     },
     "execution_count": 4,
     "metadata": {},
     "output_type": "execute_result"
    }
   ],
   "source": [
    "# Plot the results\n",
    "%matplotlib qt\n",
    "\n",
    "rho_res.animate()   \t"
   ]
  },
  {
   "cell_type": "code",
   "execution_count": 5,
   "metadata": {},
   "outputs": [
    {
     "data": {
      "text/plain": [
       "<matplotlib.animation.FuncAnimation at 0x17032c2de10>"
      ]
     },
     "execution_count": 5,
     "metadata": {},
     "output_type": "execute_result"
    }
   ],
   "source": [
    "%matplotlib qt\n",
    "\n",
    "u_res.animate()"
   ]
  },
  {
   "cell_type": "code",
   "execution_count": 6,
   "metadata": {},
   "outputs": [
    {
     "data": {
      "text/plain": [
       "<matplotlib.animation.FuncAnimation at 0x1703ad40a90>"
      ]
     },
     "execution_count": 6,
     "metadata": {},
     "output_type": "execute_result"
    }
   ],
   "source": [
    "%matplotlib qt\n",
    "\n",
    "p_res.animate()"
   ]
  },
  {
   "cell_type": "code",
   "execution_count": 7,
   "metadata": {},
   "outputs": [
    {
     "data": {
      "text/plain": [
       "<matplotlib.animation.FuncAnimation at 0x17038848dd0>"
      ]
     },
     "execution_count": 7,
     "metadata": {},
     "output_type": "execute_result"
    }
   ],
   "source": [
    "%matplotlib qt\n",
    "\n",
    "a_res.animate()"
   ]
  },
  {
   "cell_type": "code",
   "execution_count": 41,
   "metadata": {},
   "outputs": [],
   "source": [
    "## u - a stationary shock\n",
    "\n",
    "# Ahead contidions\n",
    "rho_A = 1.4\n",
    "u_A =  1.89\n",
    "p_A = 1\n",
    "\n",
    "U0_B = np.array([rho_A, u_A, p_A])\n",
    "\n",
    "\n",
    "rho_B = 3.5\n",
    "u_B = 0.7559387\n",
    "p_B = 4\n",
    "\n",
    "\n",
    "U0_A = np.array([rho_B, u_B, p_B])\n",
    "# Take the middle point of the spatial domain\n",
    "x_middle = x_end/2\n",
    "\n",
    "# Define the initial condition, with A on the right and B on the right\n",
    "U0 = np.array([U0_A if x > x_middle else U0_B for x in _x])"
   ]
  },
  {
   "cell_type": "code",
   "execution_count": 42,
   "metadata": {},
   "outputs": [],
   "source": [
    "# LFx2\n",
    "from lfx2 import LFx2\n",
    "U_prop, a_prop, dt_arr = LFx2(U0, dx, c, t_end, gamma)\n",
    "\n",
    "rho_sol = U_prop[:,:,0]\n",
    "u_sol = U_prop[:,:,1]\n",
    "p_sol = U_prop[:,:,2]\n",
    "\n",
    "\n",
    "rho_res = Result(_x, rho_sol, c, \"Shock - rho\" )\n",
    "u_res = Result(_x, u_sol, c, \"Shock - u\"  )\n",
    "p_res = Result(_x, p_sol, c,\"Shock - p\"  )\n",
    "a_res = Result(_x, a_prop, c,\"Shock - a\"  )"
   ]
  },
  {
   "cell_type": "code",
   "execution_count": 43,
   "metadata": {},
   "outputs": [
    {
     "data": {
      "text/plain": [
       "<matplotlib.animation.FuncAnimation at 0x155aac52890>"
      ]
     },
     "execution_count": 43,
     "metadata": {},
     "output_type": "execute_result"
    }
   ],
   "source": [
    "# Plot the results\n",
    "%matplotlib qt\n",
    "\n",
    "rho_res.animate()   \t"
   ]
  },
  {
   "cell_type": "code",
   "execution_count": 44,
   "metadata": {},
   "outputs": [
    {
     "data": {
      "text/plain": [
       "<matplotlib.animation.FuncAnimation at 0x155a22a4ed0>"
      ]
     },
     "execution_count": 44,
     "metadata": {},
     "output_type": "execute_result"
    }
   ],
   "source": [
    "%matplotlib qt\n",
    "\n",
    "u_res.animate()"
   ]
  },
  {
   "cell_type": "code",
   "execution_count": 45,
   "metadata": {},
   "outputs": [
    {
     "data": {
      "text/plain": [
       "<matplotlib.animation.FuncAnimation at 0x155aafd2890>"
      ]
     },
     "execution_count": 45,
     "metadata": {},
     "output_type": "execute_result"
    }
   ],
   "source": [
    "%matplotlib qt\n",
    "\n",
    "p_res.animate()"
   ]
  },
  {
   "cell_type": "code",
   "execution_count": 19,
   "metadata": {},
   "outputs": [
    {
     "data": {
      "text/plain": [
       "<matplotlib.animation.FuncAnimation at 0x14a31b17250>"
      ]
     },
     "execution_count": 19,
     "metadata": {},
     "output_type": "execute_result"
    }
   ],
   "source": [
    "%matplotlib qt\n",
    "\n",
    "a_res.animate()"
   ]
  },
  {
   "cell_type": "code",
   "execution_count": 46,
   "metadata": {},
   "outputs": [],
   "source": [
    "## u - a supersonic shock\n",
    "\n",
    "# Ahead contidions\n",
    "rho_A = 1.4\n",
    "u_A =  3.78\n",
    "p_A = 1\n",
    "\n",
    "U0_B = np.array([rho_A, u_A, p_A])\n",
    "\n",
    "\n",
    "rho_B = 3.5\n",
    "u_B = 2.645\n",
    "p_B = 4\n",
    "\n",
    "\n",
    "U0_A = np.array([rho_B, u_B, p_B])\n",
    "# Take the middle point of the spatial domain\n",
    "x_middle = x_end/2\n",
    "\n",
    "# Define the initial condition, with A on the right and B on the right\n",
    "U0 = np.array([U0_A if x > x_middle else U0_B for x in _x])"
   ]
  },
  {
   "cell_type": "code",
   "execution_count": 47,
   "metadata": {},
   "outputs": [],
   "source": [
    "# LFx2\n",
    "from lfx2 import LFx2\n",
    "U_prop, a_prop, dt_arr = LFx2(U0, dx, c, t_end, gamma)\n",
    "\n",
    "rho_sol = U_prop[:,:,0]\n",
    "u_sol = U_prop[:,:,1]\n",
    "p_sol = U_prop[:,:,2]\n",
    "\n",
    "\n",
    "rho_res = Result(_x, rho_sol, c, \"Shock - rho\" )\n",
    "u_res = Result(_x, u_sol, c, \"Shock - u\"  )\n",
    "p_res = Result(_x, p_sol, c,\"Shock - p\"  )\n",
    "a_res = Result(_x, a_prop, c,\"Shock - a\"  )"
   ]
  },
  {
   "cell_type": "code",
   "execution_count": 48,
   "metadata": {},
   "outputs": [
    {
     "data": {
      "text/plain": [
       "<matplotlib.animation.FuncAnimation at 0x155ac66c150>"
      ]
     },
     "execution_count": 48,
     "metadata": {},
     "output_type": "execute_result"
    }
   ],
   "source": [
    "# Plot the results\n",
    "%matplotlib qt\n",
    "\n",
    "rho_res.animate()   \t"
   ]
  },
  {
   "cell_type": "code",
   "execution_count": 49,
   "metadata": {},
   "outputs": [
    {
     "data": {
      "text/plain": [
       "<matplotlib.animation.FuncAnimation at 0x155ac6bd590>"
      ]
     },
     "execution_count": 49,
     "metadata": {},
     "output_type": "execute_result"
    }
   ],
   "source": [
    "%matplotlib qt\n",
    "\n",
    "u_res.animate()"
   ]
  },
  {
   "cell_type": "code",
   "execution_count": 50,
   "metadata": {},
   "outputs": [
    {
     "data": {
      "text/plain": [
       "<matplotlib.animation.FuncAnimation at 0x155ac636f10>"
      ]
     },
     "execution_count": 50,
     "metadata": {},
     "output_type": "execute_result"
    }
   ],
   "source": [
    "%matplotlib qt\n",
    "\n",
    "p_res.animate()"
   ]
  }
 ],
 "metadata": {
  "kernelspec": {
   "display_name": ".venv",
   "language": "python",
   "name": "python3"
  },
  "language_info": {
   "codemirror_mode": {
    "name": "ipython",
    "version": 3
   },
   "file_extension": ".py",
   "mimetype": "text/x-python",
   "name": "python",
   "nbconvert_exporter": "python",
   "pygments_lexer": "ipython3",
   "version": "3.11.9"
  }
 },
 "nbformat": 4,
 "nbformat_minor": 2
}
