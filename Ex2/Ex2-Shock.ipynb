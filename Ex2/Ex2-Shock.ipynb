{
 "cells": [
  {
   "cell_type": "code",
   "execution_count": 9,
   "metadata": {},
   "outputs": [],
   "source": [
    "from consts import *\n",
    "import numpy as np\n",
    "\n",
    "\n",
    "_x = np.arange(x_start, x_end, dx)"
   ]
  },
  {
   "cell_type": "code",
   "execution_count": 10,
   "metadata": {},
   "outputs": [],
   "source": [
    "# Ahead contidions\n",
    "rho_A = 1.4\n",
    "u_A =  0\n",
    "p_A = 1\n",
    "\n",
    "U0_A = np.array([rho_A, u_A, p_A])\n",
    "\n",
    "\n",
    "# u + a shock\n",
    "u_B = 1.1340613\n",
    "p_B = 4\n",
    "rho_B = 3.5\n",
    "\n",
    "U0_B = np.array([rho_B, u_B, p_B])\n",
    "# Take the middle point of the spatial domain\n",
    "x_middle = x_end/2\n",
    "\n",
    "# Define the initial condition, with A on the right and B on the right\n",
    "U0 = np.array([U0_A if x > x_middle else U0_B for x in _x])"
   ]
  },
  {
   "cell_type": "code",
   "execution_count": 11,
   "metadata": {},
   "outputs": [],
   "source": [
    "# LFx2\n",
    "from lfx2 import LFx2\n",
    "U_prop, a_prop, dt_arr = LFx2(U0, dx, c, t_end, gamma)\n",
    "\n",
    "rho_sol = U_prop[:,:,0]\n",
    "u_sol = U_prop[:,:,1]\n",
    "p_sol = U_prop[:,:,2]\n",
    "\n",
    "\n",
    "rho_res = Result(_x, rho_sol, c, \"Shock - rho\" )\n",
    "u_res = Result(_x, u_sol, c, \"Shock - u\"  )\n",
    "p_res = Result(_x, p_sol, c,\"Shock - p\"  )\n",
    "a_res = Result(_x, a_prop, c,\"Shock - a\"  )"
   ]
  },
  {
   "cell_type": "code",
   "execution_count": 12,
   "metadata": {},
   "outputs": [
    {
     "data": {
      "text/plain": [
       "<matplotlib.animation.FuncAnimation at 0x19280026f50>"
      ]
     },
     "execution_count": 12,
     "metadata": {},
     "output_type": "execute_result"
    }
   ],
   "source": [
    "# Plot the results\n",
    "%matplotlib qt\n",
    "\n",
    "rho_res.animate()   \t"
   ]
  },
  {
   "cell_type": "code",
   "execution_count": 13,
   "metadata": {},
   "outputs": [
    {
     "data": {
      "text/plain": [
       "<matplotlib.animation.FuncAnimation at 0x19280751750>"
      ]
     },
     "execution_count": 13,
     "metadata": {},
     "output_type": "execute_result"
    }
   ],
   "source": [
    "%matplotlib qt\n",
    "\n",
    "u_res.animate()"
   ]
  },
  {
   "cell_type": "code",
   "execution_count": 14,
   "metadata": {},
   "outputs": [
    {
     "data": {
      "text/plain": [
       "<matplotlib.animation.FuncAnimation at 0x192f92b6f50>"
      ]
     },
     "execution_count": 14,
     "metadata": {},
     "output_type": "execute_result"
    }
   ],
   "source": [
    "%matplotlib qt\n",
    "\n",
    "p_res.animate()"
   ]
  },
  {
   "cell_type": "code",
   "execution_count": 15,
   "metadata": {},
   "outputs": [
    {
     "data": {
      "text/plain": [
       "<matplotlib.animation.FuncAnimation at 0x192807fd290>"
      ]
     },
     "execution_count": 15,
     "metadata": {},
     "output_type": "execute_result"
    }
   ],
   "source": [
    "%matplotlib qt\n",
    "\n",
    "a_res.animate()"
   ]
  }
 ],
 "metadata": {
  "kernelspec": {
   "display_name": ".venv",
   "language": "python",
   "name": "python3"
  },
  "language_info": {
   "codemirror_mode": {
    "name": "ipython",
    "version": 3
   },
   "file_extension": ".py",
   "mimetype": "text/x-python",
   "name": "python",
   "nbconvert_exporter": "python",
   "pygments_lexer": "ipython3",
   "version": "3.11.9"
  }
 },
 "nbformat": 4,
 "nbformat_minor": 2
}
