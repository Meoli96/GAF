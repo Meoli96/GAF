{
 "cells": [
  {
   "cell_type": "code",
   "execution_count": 9,
   "id": "ddb0f5d2",
   "metadata": {},
   "outputs": [],
   "source": [
    "from consts import *\n",
    "import numpy as np\n",
    "\n",
    "\n",
    "_x = np.arange(x_start, x_end, dx)"
   ]
  },
  {
   "cell_type": "code",
   "execution_count": 10,
   "id": "6726cbf1",
   "metadata": {},
   "outputs": [],
   "source": [
    "# Ahead conditions\n",
    "\n",
    "# Ahead contidions\n",
    "rho_A = 1.4\n",
    "u_A =  0\n",
    "p_A = 1\n",
    "\n",
    "U0_B = np.array([rho_A, u_A, p_A])\n",
    "\n",
    "\n",
    "# Behind conditions\n",
    "\n",
    "rho_B = 3.82918\n",
    "u_B = 1.114565\n",
    "p_B = 4.090429\n",
    "\n",
    "\n",
    "\n",
    "\n",
    "U0_A = np.array([rho_B, u_B, p_B])\n",
    "# # Take the middle point of the spatial domain\n",
    "# x_middle = x_end/2\n",
    "\n",
    "# # Define the initial condition, with A on the right and B on the right\n",
    "# U0 = np.array([U0_A if x > x_middle else U0_B for x in _x])"
   ]
  },
  {
   "cell_type": "code",
   "execution_count": 11,
   "id": "e1474df0",
   "metadata": {},
   "outputs": [],
   "source": [
    "# Linear distribution compression\n",
    "\n",
    "U0 = np.array([U0_A if x < 2 else U0_B for x in _x])\n",
    "# Now use linear interpolation to create a smooth transition from 2 to 3\n",
    "for i in range(len(_x)):\n",
    "    if _x[i] >= 2 and _x[i] <= 3:\n",
    "        U0[i] = U0_A + (U0_B - U0_A) * (_x[i] - 2) / (3 - 2)\n"
   ]
  },
  {
   "cell_type": "code",
   "execution_count": 12,
   "id": "90cdbaf2",
   "metadata": {},
   "outputs": [],
   "source": [
    "# LFx2\n",
    "from lfx2 import LFx2\n",
    "U_prop, a_prop, dt_arr = LFx2(U0, dx, c, t_end, gamma)\n",
    "\n",
    "rho_sol = U_prop[:,:,0]\n",
    "u_sol = U_prop[:,:,1]\n",
    "p_sol = U_prop[:,:,2]\n",
    "\n",
    "\n",
    "rho_res = Result(_x, rho_sol, c,\"Expansion - rho\" )\n",
    "u_res = Result(_x, u_sol, c,\"Expansion - u\"  )\n",
    "p_res = Result(_x, p_sol, c,\"Expansion - p\"  )\n",
    "a_res = Result(_x, a_prop, c,\"Expansion - a\"  )"
   ]
  },
  {
   "cell_type": "code",
   "execution_count": 13,
   "id": "59289486",
   "metadata": {},
   "outputs": [
    {
     "data": {
      "text/plain": [
       "<matplotlib.animation.FuncAnimation at 0x2102ccecf10>"
      ]
     },
     "execution_count": 13,
     "metadata": {},
     "output_type": "execute_result"
    }
   ],
   "source": [
    "# Plot the results\n",
    "%matplotlib qt\n",
    "\n",
    "rho_res.animate()   \t"
   ]
  },
  {
   "cell_type": "code",
   "execution_count": 14,
   "id": "3b3ece89",
   "metadata": {},
   "outputs": [
    {
     "data": {
      "text/plain": [
       "<matplotlib.animation.FuncAnimation at 0x2102cfbe890>"
      ]
     },
     "execution_count": 14,
     "metadata": {},
     "output_type": "execute_result"
    }
   ],
   "source": [
    "%matplotlib qt\n",
    "\n",
    "u_res.animate()"
   ]
  },
  {
   "cell_type": "code",
   "execution_count": 15,
   "id": "10a42754",
   "metadata": {},
   "outputs": [
    {
     "data": {
      "text/plain": [
       "<matplotlib.animation.FuncAnimation at 0x21027d274d0>"
      ]
     },
     "execution_count": 15,
     "metadata": {},
     "output_type": "execute_result"
    }
   ],
   "source": [
    "%matplotlib qt\n",
    "\n",
    "p_res.animate()"
   ]
  },
  {
   "cell_type": "code",
   "execution_count": null,
   "id": "cfa4d7f0",
   "metadata": {},
   "outputs": [
    {
     "data": {
      "text/plain": [
       "<matplotlib.animation.FuncAnimation at 0x21027d8dcd0>"
      ]
     },
     "execution_count": 16,
     "metadata": {},
     "output_type": "execute_result"
    },
    {
     "ename": "",
     "evalue": "",
     "output_type": "error",
     "traceback": [
      "\u001b[1;31mThe Kernel crashed while executing code in the current cell or a previous cell. \n",
      "\u001b[1;31mPlease review the code in the cell(s) to identify a possible cause of the failure. \n",
      "\u001b[1;31mClick <a href='https://aka.ms/vscodeJupyterKernelCrash'>here</a> for more info. \n",
      "\u001b[1;31mView Jupyter <a href='command:jupyter.viewOutput'>log</a> for further details."
     ]
    }
   ],
   "source": [
    "%matplotlib qt\n",
    "\n",
    "a_res.animate()"
   ]
  }
 ],
 "metadata": {
  "kernelspec": {
   "display_name": ".venv",
   "language": "python",
   "name": "python3"
  },
  "language_info": {
   "codemirror_mode": {
    "name": "ipython",
    "version": 3
   },
   "file_extension": ".py",
   "mimetype": "text/x-python",
   "name": "python",
   "nbconvert_exporter": "python",
   "pygments_lexer": "ipython3",
   "version": "3.11.9"
  }
 },
 "nbformat": 4,
 "nbformat_minor": 5
}
