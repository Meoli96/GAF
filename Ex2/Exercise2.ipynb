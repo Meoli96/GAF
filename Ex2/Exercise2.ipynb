{
 "cells": [
  {
   "cell_type": "code",
   "execution_count": 8,
   "metadata": {},
   "outputs": [],
   "source": [
    "import numpy as np\n",
    "import matplotlib.pyplot as plt\n"
   ]
  },
  {
   "cell_type": "code",
   "execution_count": 9,
   "metadata": {},
   "outputs": [],
   "source": [
    "# Discretization parameters\n",
    "dx = 0.01 # space step\n",
    "t_end = 5 # end of simulation time \n",
    "gamma = 1.4\n",
    "c = 0.8"
   ]
  },
  {
   "cell_type": "code",
   "execution_count": 10,
   "metadata": {},
   "outputs": [],
   "source": [
    " \n",
    "x_start = 0\n",
    "x_end = 10+dx\n",
    "\n",
    "_x = np.arange(x_start, x_end, dx)\n",
    "\n",
    "delta_x_ = 1 # Interval of the \"disturbance\"\n"
   ]
  },
  {
   "cell_type": "markdown",
   "metadata": {},
   "source": [
    "### Contact Discontinuity"
   ]
  },
  {
   "cell_type": "code",
   "execution_count": null,
   "metadata": {},
   "outputs": [],
   "source": []
  },
  {
   "cell_type": "code",
   "execution_count": 11,
   "metadata": {},
   "outputs": [],
   "source": [
    "def top_hat(x, x_start, width):\n",
    "    # Top hat parametrization\n",
    "    # 2     ___\n",
    "    #      |   |\n",
    "    # 1 ___|   |___\n",
    "    #   0  1   2  3\n",
    "\n",
    "    if x_start <= x <= x_start + width:\n",
    "        return 2\n",
    "    else:\n",
    "        return 1"
   ]
  },
  {
   "cell_type": "code",
   "execution_count": 12,
   "metadata": {},
   "outputs": [],
   "source": [
    "# Contact discontinuity through LFx2\n",
    "# Velocity is zero\n",
    "u0 = np.zeros_like(_x)\n",
    "# Pressure is 1\n",
    "p0 = np.ones_like(_x)\n",
    "# Top hat initial condition for density\n",
    "rho0 = np.array([top_hat(x, 1, 1) for x in _x])\n",
    "\n",
    "\n",
    "U0 = np.array([rho0, u0, p0]).T"
   ]
  },
  {
   "cell_type": "code",
   "execution_count": 6,
   "metadata": {},
   "outputs": [
    {
     "ename": "ValueError",
     "evalue": "could not broadcast input array from shape (999,3) into shape (1001,3)",
     "output_type": "error",
     "traceback": [
      "\u001b[1;31m---------------------------------------------------------------------------\u001b[0m",
      "\u001b[1;31mValueError\u001b[0m                                Traceback (most recent call last)",
      "Cell \u001b[1;32mIn[6], line 2\u001b[0m\n\u001b[0;32m      1\u001b[0m \u001b[38;5;28;01mfrom\u001b[39;00m \u001b[38;5;21;01mlfx2\u001b[39;00m \u001b[38;5;28;01mimport\u001b[39;00m LFx2\n\u001b[1;32m----> 2\u001b[0m U_prop, dt_arr \u001b[38;5;241m=\u001b[39m \u001b[43mLFx2\u001b[49m\u001b[43m(\u001b[49m\u001b[43mU0\u001b[49m\u001b[43m,\u001b[49m\u001b[43m \u001b[49m\u001b[43mdx\u001b[49m\u001b[43m,\u001b[49m\u001b[43m \u001b[49m\u001b[43mc\u001b[49m\u001b[43m,\u001b[49m\u001b[43m \u001b[49m\u001b[43mt_end\u001b[49m\u001b[43m,\u001b[49m\u001b[43m \u001b[49m\u001b[43mgamma\u001b[49m\u001b[43m)\u001b[49m\n",
      "File \u001b[1;32me:\\Coding\\Universita\\GAF\\Ex2\\lfx2.py:189\u001b[0m, in \u001b[0;36mLFx2\u001b[1;34m(U0, dx, c, T, gamma)\u001b[0m\n\u001b[0;32m    187\u001b[0m U_grid, a_grid, dt \u001b[38;5;241m=\u001b[39m lfx2_step(U_grid, dx, c, gamma \u001b[38;5;241m=\u001b[39m gamma)\n\u001b[0;32m    188\u001b[0m t_total \u001b[38;5;241m+\u001b[39m\u001b[38;5;241m=\u001b[39m dt\n\u001b[1;32m--> 189\u001b[0m \u001b[43mU_grid_result\u001b[49m\u001b[43m[\u001b[49m\u001b[43mstep_counter\u001b[49m\u001b[43m]\u001b[49m \u001b[38;5;241m=\u001b[39m U_grid\n\u001b[0;32m    190\u001b[0m a_grid_result[step_counter] \u001b[38;5;241m=\u001b[39m a_grid\n\u001b[0;32m    191\u001b[0m dt_array[step_counter] \u001b[38;5;241m=\u001b[39m dt\n",
      "\u001b[1;31mValueError\u001b[0m: could not broadcast input array from shape (999,3) into shape (1001,3)"
     ]
    }
   ],
   "source": [
    "from lfx2 import LFx2\n",
    "U_prop, dt_arr = LFx2(U0, dx, c, t_end, gamma)"
   ]
  },
  {
   "cell_type": "code",
   "execution_count": null,
   "metadata": {},
   "outputs": [],
   "source": [
    "#Unpack the solution, U_prop is a 3D array [n_step, n_sample, n_var]\n",
    "rho = U_prop[:,:,0]\n",
    "\n",
    "u = U_prop[:,:,1]\n",
    "\n",
    "p = U_prop[:,:,2]\n"
   ]
  },
  {
   "cell_type": "markdown",
   "metadata": {},
   "source": []
  },
  {
   "cell_type": "markdown",
   "metadata": {},
   "source": [
    "### Expansion"
   ]
  },
  {
   "cell_type": "markdown",
   "metadata": {},
   "source": [
    "### Compression"
   ]
  },
  {
   "cell_type": "markdown",
   "metadata": {},
   "source": [
    "### Shock"
   ]
  }
 ],
 "metadata": {
  "kernelspec": {
   "display_name": ".venv",
   "language": "python",
   "name": "python3"
  },
  "language_info": {
   "codemirror_mode": {
    "name": "ipython",
    "version": 3
   },
   "file_extension": ".py",
   "mimetype": "text/x-python",
   "name": "python",
   "nbconvert_exporter": "python",
   "pygments_lexer": "ipython3",
   "version": "3.11.9"
  }
 },
 "nbformat": 4,
 "nbformat_minor": 2
}
