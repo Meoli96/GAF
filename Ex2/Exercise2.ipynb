{
 "cells": [
  {
   "cell_type": "code",
   "execution_count": 1,
   "metadata": {},
   "outputs": [],
   "source": [
    "import numpy as np\n",
    "import matplotlib.pyplot as plt\n",
    "from utils import *\n"
   ]
  },
  {
   "cell_type": "code",
   "execution_count": 2,
   "metadata": {},
   "outputs": [],
   "source": [
    "# Discretization parameters\n",
    "dx = 0.01 # space step\n",
    "t_end = 5 # end of simulation time \n",
    "gamma = 1.4\n",
    "c = 0.8"
   ]
  },
  {
   "cell_type": "code",
   "execution_count": 3,
   "metadata": {},
   "outputs": [],
   "source": [
    " \n",
    "x_start = 0\n",
    "x_end = 10+dx\n",
    "\n",
    "_x = np.arange(x_start, x_end, dx)\n",
    "\n",
    "delta_x_ = 1 # Interval of the \"disturbance\"\n"
   ]
  },
  {
   "cell_type": "markdown",
   "metadata": {},
   "source": [
    "### Contact Discontinuity"
   ]
  },
  {
   "cell_type": "code",
   "execution_count": null,
   "metadata": {},
   "outputs": [],
   "source": []
  },
  {
   "cell_type": "code",
   "execution_count": 4,
   "metadata": {},
   "outputs": [],
   "source": [
    "def top_hat(x, x_start, width):\n",
    "    # Top hat parametrization\n",
    "    # 2     ___\n",
    "    #      |   |\n",
    "    # 1 ___|   |___\n",
    "    #   0  1   2  3\n",
    "\n",
    "    if x_start <= x <= x_start + width:\n",
    "        return 2\n",
    "    else:\n",
    "        return 1"
   ]
  },
  {
   "cell_type": "code",
   "execution_count": 5,
   "metadata": {},
   "outputs": [],
   "source": [
    "# Contact discontinuity through LFx2\n",
    "# Velocity is zero\n",
    "u0 = np.zeros_like(_x)\n",
    "# Pressure is 1\n",
    "p0 = np.ones_like(_x)\n",
    "# Top hat initial condition for density\n",
    "rho0 = np.array([top_hat(x, 1, 1) for x in _x])\n",
    "\n",
    "\n",
    "U0 = np.array([rho0, u0, p0]).T"
   ]
  },
  {
   "cell_type": "code",
   "execution_count": 6,
   "metadata": {},
   "outputs": [],
   "source": [
    "from lfx2 import LFx2\n",
    "U_prop, a_prop, dt_arr = LFx2(U0, dx, c, t_end, gamma)"
   ]
  },
  {
   "cell_type": "code",
   "execution_count": 7,
   "metadata": {},
   "outputs": [],
   "source": [
    "#Unpack the solution, U_prop is a 3D array [n_step, n_sample, n_var]\n",
    "rho_sol = U_prop[:,:,0]\n",
    "\n",
    "u_sol = U_prop[:,:,1]\n",
    "\n",
    "p_sol = U_prop[:,:,2]\n",
    "\n",
    "\n",
    "rho_res = Result(_x, rho_sol, c,\"Top Hat\" )\n",
    "u_res = Result(_x, u_sol, c,\"Top Hat\" )\n",
    "p_res = Result(_x, p_sol, c,\"Top Hat\" )\n",
    "\n",
    "\n",
    "\n"
   ]
  },
  {
   "cell_type": "code",
   "execution_count": 8,
   "metadata": {},
   "outputs": [
    {
     "data": {
      "text/plain": [
       "<matplotlib.animation.FuncAnimation at 0x271b75fd7d0>"
      ]
     },
     "execution_count": 8,
     "metadata": {},
     "output_type": "execute_result"
    }
   ],
   "source": [
    "%matplotlib qt\n",
    "\n",
    "rho_res.animate()\n"
   ]
  },
  {
   "cell_type": "code",
   "execution_count": 9,
   "metadata": {},
   "outputs": [
    {
     "data": {
      "text/plain": [
       "<matplotlib.animation.FuncAnimation at 0x271b7671dd0>"
      ]
     },
     "execution_count": 9,
     "metadata": {},
     "output_type": "execute_result"
    }
   ],
   "source": [
    "%matplotlib qt\n",
    "\n",
    "u_res.animate()"
   ]
  },
  {
   "cell_type": "code",
   "execution_count": 10,
   "metadata": {},
   "outputs": [
    {
     "data": {
      "text/plain": [
       "<matplotlib.animation.FuncAnimation at 0x271b75d5890>"
      ]
     },
     "execution_count": 10,
     "metadata": {},
     "output_type": "execute_result"
    }
   ],
   "source": [
    "%matplotlib qt\n",
    "\n",
    "p_res.animate()"
   ]
  },
  {
   "cell_type": "markdown",
   "metadata": {},
   "source": [
    "### Expansion"
   ]
  },
  {
   "cell_type": "code",
   "execution_count": 21,
   "metadata": {},
   "outputs": [],
   "source": [
    "# Ahead contidions\n",
    "rho_A = 1.4\n",
    "u_A =  0\n",
    "p_A = 1\n",
    "\n",
    "U0_A = np.array([rho_A, u_A, p_A])\n",
    "\n",
    "\n",
    "# Behind conditions\n",
    "## Subsonic (Got a negative pressure that is not physical)\n",
    "# rho_B = 0.585\n",
    "# u_B = -0.8\n",
    "# p_B = 0.295\n",
    "\n",
    "## Transonic\n",
    "rho_B = 4.48*10**-4\n",
    "u_B = -4\n",
    "p_B = 1.28*10**-5\n",
    "\n",
    "U0_B = np.array([rho_B, u_B, p_B])"
   ]
  },
  {
   "cell_type": "code",
   "execution_count": 22,
   "metadata": {},
   "outputs": [],
   "source": [
    "# Take the middle point of the spatial domain\n",
    "x_middle = x_end/2\n",
    "\n",
    "# Define the initial condition, with A on the right and B on the right\n",
    "U0 = np.array([U0_A if x > x_middle else U0_B for x in _x])\n",
    "\n",
    "# Now we can run the simulation\n",
    "U_prop, a_prop, dt_arr = LFx2(U0, dx, c, t_end, gamma)"
   ]
  },
  {
   "cell_type": "code",
   "execution_count": 23,
   "metadata": {},
   "outputs": [],
   "source": [
    "rho_sol = U_prop[:,:,0]\n",
    "u_sol = U_prop[:,:,1]\n",
    "p_sol = U_prop[:,:,2]\n",
    "\n",
    "\n",
    "rho_res = Result(_x, rho_sol, c,\"Expansion\" )\n",
    "u_res = Result(_x, u_sol, c,\"Expansion\"  )\n",
    "p_res = Result(_x, p_sol, c,\"Expansion\"  )"
   ]
  },
  {
   "cell_type": "code",
   "execution_count": 24,
   "metadata": {},
   "outputs": [
    {
     "data": {
      "text/plain": [
       "<matplotlib.animation.FuncAnimation at 0x271bf7c04d0>"
      ]
     },
     "execution_count": 24,
     "metadata": {},
     "output_type": "execute_result"
    }
   ],
   "source": [
    "%matplotlib qt\n",
    "\n",
    "rho_res.animate()\n",
    "\n"
   ]
  },
  {
   "cell_type": "code",
   "execution_count": 25,
   "metadata": {},
   "outputs": [
    {
     "data": {
      "text/plain": [
       "<matplotlib.animation.FuncAnimation at 0x271bb47fcd0>"
      ]
     },
     "execution_count": 25,
     "metadata": {},
     "output_type": "execute_result"
    }
   ],
   "source": [
    "%matplotlib qt\n",
    "\n",
    "u_res.animate()"
   ]
  },
  {
   "cell_type": "code",
   "execution_count": 26,
   "metadata": {},
   "outputs": [
    {
     "data": {
      "text/plain": [
       "<matplotlib.animation.FuncAnimation at 0x271bb773990>"
      ]
     },
     "execution_count": 26,
     "metadata": {},
     "output_type": "execute_result"
    }
   ],
   "source": [
    "%matplotlib qt\n",
    "\n",
    "p_res.animate()\n",
    "\n"
   ]
  },
  {
   "cell_type": "code",
   "execution_count": 27,
   "metadata": {},
   "outputs": [],
   "source": [
    "# Add u_sol and a_prop to the plot\n",
    "UpA = u_sol[:] + np.squeeze(a_prop)\n",
    "UmA = u_sol[:] - np.squeeze(a_prop)\n",
    "\n",
    "UpA_res = Result(_x, UpA, c,\"Expansion\"  )\n",
    "UmA_res = Result(_x, UmA, c,\"Expansion\"  )\n"
   ]
  },
  {
   "cell_type": "code",
   "execution_count": 28,
   "metadata": {},
   "outputs": [
    {
     "data": {
      "text/plain": [
       "<matplotlib.animation.FuncAnimation at 0x271bb762750>"
      ]
     },
     "execution_count": 28,
     "metadata": {},
     "output_type": "execute_result"
    }
   ],
   "source": [
    "%matplotlib qt\n",
    "\n",
    "UpA_res.animate()"
   ]
  },
  {
   "cell_type": "code",
   "execution_count": 29,
   "metadata": {},
   "outputs": [
    {
     "data": {
      "text/plain": [
       "<matplotlib.animation.FuncAnimation at 0x271bb1e6bd0>"
      ]
     },
     "execution_count": 29,
     "metadata": {},
     "output_type": "execute_result"
    }
   ],
   "source": [
    "%matplotlib qt\n",
    "\n",
    "UmA_res.animate()"
   ]
  },
  {
   "cell_type": "code",
   "execution_count": null,
   "metadata": {},
   "outputs": [],
   "source": []
  },
  {
   "cell_type": "markdown",
   "metadata": {},
   "source": [
    "### Compression"
   ]
  },
  {
   "cell_type": "markdown",
   "metadata": {},
   "source": [
    "### Shock"
   ]
  }
 ],
 "metadata": {
  "kernelspec": {
   "display_name": ".venv",
   "language": "python",
   "name": "python3"
  },
  "language_info": {
   "codemirror_mode": {
    "name": "ipython",
    "version": 3
   },
   "file_extension": ".py",
   "mimetype": "text/x-python",
   "name": "python",
   "nbconvert_exporter": "python",
   "pygments_lexer": "ipython3",
   "version": "3.11.9"
  }
 },
 "nbformat": 4,
 "nbformat_minor": 2
}
