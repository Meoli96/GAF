{
 "cells": [
  {
   "cell_type": "code",
   "execution_count": 32,
   "metadata": {},
   "outputs": [],
   "source": [
    "from consts import *\n",
    "import numpy as np\n",
    "\n",
    "\n",
    "_x = np.arange(x_start, x_end, dx)"
   ]
  },
  {
   "cell_type": "code",
   "execution_count": 33,
   "metadata": {},
   "outputs": [],
   "source": [
    "# Ahead contidions\n",
    "rho_A = 1.4\n",
    "u_A =  0\n",
    "p_A = 1\n",
    "\n",
    "U0_A = np.array([rho_A, u_A, p_A])\n",
    "\n",
    "\n",
    "# Behind conditions\n",
    "## Subsonic \n",
    "# rho_B = 0.585\n",
    "# u_B = -0.8\n",
    "# p_B = 0.295\n",
    "\n",
    "# # Transonic\n",
    "rho_B = 3.2*10**-4\n",
    "u_B = -4\n",
    "p_B = 1.28*10**-5\n",
    "\n",
    "U0_B = np.array([rho_B, u_B, p_B])\n",
    "# Take the middle point of the spatial domain\n",
    "x_middle = x_end/2\n",
    "\n",
    "# Define the initial condition, with A on the right and B on the right\n",
    "U0 = np.array([U0_A if x > x_middle else U0_B for x in _x])"
   ]
  },
  {
   "cell_type": "code",
   "execution_count": 34,
   "metadata": {
    "notebookRunGroups": {
     "groupValue": "2"
    }
   },
   "outputs": [
    {
     "name": "stderr",
     "output_type": "stream",
     "text": [
      "e:\\Coding\\Universita\\GAF\\.venv\\Lib\\site-packages\\matplotlib\\animation.py:872: UserWarning: Animation was deleted without rendering anything. This is most likely not intended. To prevent deletion, assign the Animation to a variable, e.g. `anim`, that exists until you output the Animation using `plt.show()` or `anim.save()`.\n",
      "  warnings.warn(\n"
     ]
    },
    {
     "data": {
      "text/plain": [
       "<matplotlib.animation.FuncAnimation at 0x210b36fa3d0>"
      ]
     },
     "execution_count": 34,
     "metadata": {},
     "output_type": "execute_result"
    }
   ],
   "source": [
    "# LFx2\n",
    "from lfx2 import LFx2\n",
    "U_prop, a_prop, dt_arr = LFx2(U0, dx, c, t_end, gamma)\n",
    "\n",
    "rho_sol = U_prop[:,:,0]\n",
    "u_sol = U_prop[:,:,1]\n",
    "p_sol = U_prop[:,:,2]\n",
    "\n",
    "\n",
    "rho_res = Result(_x, rho_sol, c,\"Expansion - rho\" )\n",
    "u_res = Result(_x, u_sol, c,\"Expansion - u\"  )\n",
    "p_res = Result(_x, p_sol, c,\"Expansion - p\"  )\n",
    "a_res = Result(_x, a_prop, c,\"Expansion - a\"  )\n",
    "\n",
    "# Plot the results\n",
    "%matplotlib qt\n",
    "\n",
    "rho_res.animate()   \t\n",
    "u_res.animate()\n",
    "p_res.animate()\n",
    "a_res.animate()\n"
   ]
  },
  {
   "cell_type": "code",
   "execution_count": 35,
   "metadata": {},
   "outputs": [
    {
     "name": "stderr",
     "output_type": "stream",
     "text": [
      "e:\\Coding\\Universita\\GAF\\Ex2\\godunov.py:95: RuntimeWarning: invalid value encountered in sqrt\n",
      "  a_grid_gc = np.sqrt(gamma * U_grid_gc[:,2] / U_grid_gc[:,0])\n"
     ]
    },
    {
     "data": {
      "text/plain": [
       "<matplotlib.animation.FuncAnimation at 0x210b3f58e90>"
      ]
     },
     "execution_count": 35,
     "metadata": {},
     "output_type": "execute_result"
    }
   ],
   "source": [
    "# Godunov\n",
    "from godunov import *\n",
    "U_prop, a_prop, dt_arr = godunov(U0, dx, c, t_end, gamma)\n",
    "\n",
    "rho_sol = U_prop[:,:,0]\n",
    "u_sol = U_prop[:,:,1]\n",
    "p_sol = U_prop[:,:,2]\n",
    "\n",
    "\n",
    "rho_res = Result(_x, rho_sol, c,\"Expansion - rho G\" )\n",
    "u_res = Result(_x, u_sol, c,\"Expansion - u G\"  )\n",
    "p_res = Result(_x, p_sol, c,\"Expansion - p G\"  )\n",
    "a_res = Result(_x, a_prop, c,\"Expansion - a G\"  )\n",
    "\n",
    "%matplotlib qt\n",
    "\n",
    "rho_res.animate()\n",
    "u_res.animate()\n",
    "p_res.animate()\n",
    "a_res.animate()\n"
   ]
  }
 ],
 "metadata": {
  "kernelspec": {
   "display_name": ".venv",
   "language": "python",
   "name": "python3"
  },
  "language_info": {
   "codemirror_mode": {
    "name": "ipython",
    "version": 3
   },
   "file_extension": ".py",
   "mimetype": "text/x-python",
   "name": "python",
   "nbconvert_exporter": "python",
   "pygments_lexer": "ipython3",
   "version": "3.11.9"
  }
 },
 "nbformat": 4,
 "nbformat_minor": 2
}
