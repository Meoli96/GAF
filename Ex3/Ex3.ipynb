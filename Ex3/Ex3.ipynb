{
 "cells": [
  {
   "cell_type": "code",
   "execution_count": 1,
   "id": "0a094603",
   "metadata": {},
   "outputs": [],
   "source": [
    "from consts import *\n",
    "import numpy as np\n",
    "\n",
    "_x = np.arange(x_start, x_end, dx)"
   ]
  },
  {
   "cell_type": "code",
   "execution_count": 6,
   "id": "f2840d9a",
   "metadata": {},
   "outputs": [],
   "source": [
    "# Define Area distribution\n",
    "A1 = 1\n",
    "A2 = 2\n",
    "\n",
    "A = np.zeros(len(_x))\n",
    "# From 0 to 3 A = 1\n",
    "A[_x < 3] = A1\n",
    "# From 3 to 4 linear from 1 to 2\n",
    "A[_x >= 3] = A1 + (A2 - A1) * (_x[_x >= 3] - 3) / (4 - 3)\n",
    "# Then A = 2\n",
    "A[_x >= 4] = A2\n",
    "\n"
   ]
  }
 ],
 "metadata": {
  "kernelspec": {
   "display_name": ".venv",
   "language": "python",
   "name": "python3"
  },
  "language_info": {
   "codemirror_mode": {
    "name": "ipython",
    "version": 3
   },
   "file_extension": ".py",
   "mimetype": "text/x-python",
   "name": "python",
   "nbconvert_exporter": "python",
   "pygments_lexer": "ipython3",
   "version": "3.11.9"
  }
 },
 "nbformat": 4,
 "nbformat_minor": 5
}
