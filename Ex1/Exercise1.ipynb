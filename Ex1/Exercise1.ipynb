{
 "cells": [
  {
   "cell_type": "code",
   "execution_count": 30,
   "metadata": {},
   "outputs": [],
   "source": [
    "# Imports\n",
    "import numpy as np\n",
    "import matplotlib.pyplot as plt\n",
    "\n",
    "# Custom imports\n",
    "from utils import *"
   ]
  },
  {
   "cell_type": "code",
   "execution_count": 31,
   "metadata": {},
   "outputs": [],
   "source": [
    "# Discretization parameters\n",
    "dx = 0.01 # space\n",
    "dt = 0.005 # time\n",
    "a = 1\n"
   ]
  },
  {
   "cell_type": "code",
   "execution_count": 32,
   "metadata": {},
   "outputs": [],
   "source": [
    "# We assume that the disturbance has a width of 1, and that it always starts at x = 1\n",
    " \n",
    "x_start = 0\n",
    "x_end = 15+dx\n",
    "\n",
    "_x = np.arange(x_start, x_end, dx)\n",
    "\n",
    "delta_x_ = 1 # Interval of the \"disturbance\"\n",
    "t_start = 0"
   ]
  },
  {
   "cell_type": "code",
   "execution_count": 33,
   "metadata": {},
   "outputs": [],
   "source": [
    "def top_hat(x, x_start, width):\n",
    "    # Top hat parametrization\n",
    "    # 2     ___\n",
    "    #      |   |\n",
    "    # 1 ___|   |___\n",
    "    #   0  1   2  3\n",
    "\n",
    "    if x_start <= x <= x_start + width:\n",
    "        return 2\n",
    "    else:\n",
    "        return 1\n",
    "    \n",
    "u0_hat = np.array([top_hat(x, 1, 1) for x in _x])"
   ]
  },
  {
   "cell_type": "code",
   "execution_count": 34,
   "metadata": {},
   "outputs": [],
   "source": [
    "def triang(x, x_start, width):\n",
    "    # Triangular waveform parametrization\n",
    "    #2       /\\\n",
    "    #       /  \\ \n",
    "    #      /    \\\n",
    "    #1____/______\\_____\n",
    "    # 0   1      2    3\n",
    "\n",
    "    mid = x_start + width/2\n",
    "   \n",
    "    if x_start <= x <= mid:\n",
    "        return 2*x - 1\n",
    "    elif mid < x <= x_start + width:\n",
    "        return -2*x  + 5\n",
    "    else:\n",
    "        return 1\n",
    "\n",
    "u0_wiz = np.array([triang(x, 1, 1) for x in _x])"
   ]
  },
  {
   "cell_type": "code",
   "execution_count": 35,
   "metadata": {},
   "outputs": [],
   "source": [
    "def sine(x, x_start, width):\n",
    "    # Sine waveform parametrization\n",
    "    if x_start <= x <= x_start + width:\n",
    "        return -np.sin(np.pi*x/width) + 1\n",
    "    else:\n",
    "        return 1\n",
    "u0_sin = np.array([sine(x, 1, 1) for x in _x])"
   ]
  },
  {
   "cell_type": "code",
   "execution_count": 36,
   "metadata": {},
   "outputs": [],
   "source": [
    "plt.figure()\n",
    "plt.plot(_x, u0_hat, label=\"Top hat\")\n",
    "# limit x axis from 0  t0 4\n",
    "plt.xlim(0, 4)\n",
    "\n",
    "\n",
    "# save plot to Images folder\n",
    "plt.savefig('Images/top_hat.png')\n",
    "plt.show()\n"
   ]
  },
  {
   "cell_type": "code",
   "execution_count": 37,
   "metadata": {},
   "outputs": [],
   "source": [
    "plt.figure()\n",
    "\n",
    "plt.plot(_x, u0_wiz, label=\"Triangular\")\n",
    "plt.xlim(0, 4)\n",
    "# save plot to Images folder\n",
    "plt.savefig('Images/triang.png')\n",
    "plt.show()\n"
   ]
  },
  {
   "cell_type": "code",
   "execution_count": 38,
   "metadata": {},
   "outputs": [],
   "source": [
    "plt.figure()\n",
    "plt.plot(_x, u0_sin, label=\"Sine\")\n",
    "plt.xlim(0, 4)\n",
    "plt.savefig('Images/sine.png')\n",
    "plt.show()\n",
    "\n"
   ]
  },
  {
   "cell_type": "markdown",
   "metadata": {},
   "source": [
    "# Upwind method: Discussion and implementation"
   ]
  },
  {
   "cell_type": "code",
   "execution_count": 39,
   "metadata": {},
   "outputs": [],
   "source": [
    "def propagate(u, dx, dt, lb, a=1, n_steps=1):\n",
    "    # Propagate the disturbance\n",
    "    #c = a*dt/dx\n",
    "    c = a*dt/dx\n",
    "\n",
    "    if np.abs(c) > 1:\n",
    "        print(f\"WARNING: CFL condition not met: {c}\")\n",
    "    u_prop = np.zeros((n_steps, len(u)))\n",
    "    u_prop[0,:] = u\n",
    "    for i in range(1, n_steps):\n",
    "        u_new = u_prop[i,:]\n",
    "        u_new[0] = lb\n",
    "        for j in range(1,len(u)):\n",
    "            u_new[j] = u[j] - c*(u[j] - u[j-1])\n",
    "        # u_new avaible here, compute L1 and TV\n",
    "        u = u_new\n",
    "    return u_prop\n"
   ]
  },
  {
   "cell_type": "code",
   "execution_count": 40,
   "metadata": {},
   "outputs": [],
   "source": [
    "%matplotlib qt\n",
    "\n",
    "\n",
    "u_prop_hat = propagate(u0_hat, dx, dt, 1, a, 2000)\n",
    "top_hat = Result(_x, u_prop_hat, a*dt/dx, \"Top hat\")\n",
    "anim = top_hat.animate()\n"
   ]
  },
  {
   "cell_type": "code",
   "execution_count": 41,
   "metadata": {},
   "outputs": [],
   "source": [
    "\n",
    "u_prop_wiz = propagate(u0_wiz, dx, dt, 1, a, 2000)\n",
    "wiz = Result(_x, u_prop_wiz, a*dt/dx, \"Wizard hat\")\n"
   ]
  },
  {
   "cell_type": "code",
   "execution_count": 42,
   "metadata": {},
   "outputs": [],
   "source": [
    "%matplotlib qt\n",
    "anim = wiz.animate()\n",
    "plt.show()"
   ]
  },
  {
   "cell_type": "code",
   "execution_count": 43,
   "metadata": {},
   "outputs": [],
   "source": [
    "u_prop_sine = propagate(u0_sin, dx, dt, 1, a, 2000)\n",
    "sin = Result(_x, u_prop_sine, a*dt/dx, \"Sine\")\n",
    "\n",
    "%matplotlib qt\n",
    "anim = sin.animate()\n",
    "plt.show()"
   ]
  },
  {
   "cell_type": "code",
   "execution_count": null,
   "metadata": {},
   "outputs": [],
   "source": [
    "# Test several values of c, mantaining constant the time of propagation\n",
    "c_values  = [0.1,0.2,0.3,0.4]\n",
    "\n",
    "dt = 0.005 # meaning 10s for 2000 steps\n",
    "# To obtain the same time of propagation, we need to adjust the time step\n",
    "dx_values = [dt/c for c in c_values]\n",
    "n_steps = 2000\n",
    "\n",
    "# Propagate sine with all values of c\n",
    "u_prop_arr = np.zeros((len(c_values), n_steps, len(_x)))\n",
    "for i, c in enumerate(c_values):\n",
    "    u_prop_arr[i] = propagate(u0_sin, dx_values[i], dt, 1, a, n_steps)\n",
    "\n",
    "# Plot results  \n",
    "for i, c in enumerate(c_values):\n",
    "    res = Result(_x, u_prop_arr[i], c, f\"Sine\")\n",
    "    res.plot(save=True)\n",
    "\n"
   ]
  },
  {
   "cell_type": "code",
   "execution_count": null,
   "metadata": {},
   "outputs": [],
   "source": [
    "print(\"Dt values: \", dt_values)"
   ]
  }
 ],
 "metadata": {
  "kernelspec": {
   "display_name": ".venv",
   "language": "python",
   "name": "python3"
  },
  "language_info": {
   "codemirror_mode": {
    "name": "ipython",
    "version": 3
   },
   "file_extension": ".py",
   "mimetype": "text/x-python",
   "name": "python",
   "nbconvert_exporter": "python",
   "pygments_lexer": "ipython3",
   "version": "3.11.9"
  }
 },
 "nbformat": 4,
 "nbformat_minor": 2
}
